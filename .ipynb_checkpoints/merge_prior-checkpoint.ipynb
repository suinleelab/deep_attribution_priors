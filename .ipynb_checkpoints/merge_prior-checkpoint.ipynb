{
 "cells": [
  {
   "cell_type": "code",
   "execution_count": 1,
   "metadata": {},
   "outputs": [],
   "source": [
    "import numpy as np\n",
    "import pandas as pd\n",
    "import pickle\n",
    "import matplotlib.pyplot as plt\n",
    "from sklearn.metrics import mean_squared_error \n",
    "import random\n",
    "from sklearn.model_selection import train_test_split\n",
    "\n",
    "import os\n",
    "from tqdm import *\n",
    "\n",
    "import sys\n",
    "sys.path.insert(0, '../')\n",
    "\n",
    "# tells which GPU to use.\n",
    "os.environ[\"CUDA_VISIBLE_DEVICES\"]=\"1\"\n",
    "\n",
    "np.random.seed(1017)\n",
    "random.seed(1017)\n",
    "\n",
    "import scipy.sparse as sp\n",
    "\n",
    "import torch\n",
    "\n",
    "from egexplainer import AttributionPriorExplainer"
   ]
  },
  {
   "cell_type": "markdown",
   "metadata": {},
   "source": [
    "### We select only the genes that overlap with the MERGE score data"
   ]
  },
  {
   "cell_type": "code",
   "execution_count": 56,
   "metadata": {},
   "outputs": [],
   "source": [
    "background_dataset = ExVivoDrugData(X_train, y_train) # another dataset class containing your training data\n",
    "APExp = AttributionPriorExplainer(background_dataset, N,k=2)"
   ]
  },
  {
   "cell_type": "markdown",
   "metadata": {},
   "source": [
    "# Build model"
   ]
  },
  {
   "cell_type": "code",
   "execution_count": null,
   "metadata": {},
   "outputs": [],
   "source": [
    "import shap\n",
    "from IPython.core.debugger import set_trace\n",
    "from models import MLP\n",
    "\n",
    "background = torch.FloatTensor(X_train.sample(100).values).cuda()\n",
    "mse_term = torch.nn.MSELoss()\n",
    "\n",
    "mean_train_losses = []\n",
    "mean_valid_losses = []\n",
    "epochs = 60\n",
    "\n",
    "def train(prior_lambda):\n",
    "    \n",
    "    best_valid_loss = np.inf\n",
    "    \n",
    "    model = MLP().cuda().float()\n",
    "    optimizer = torch.optim.Adam(model.parameters(), lr=1e-5)\n",
    "\n",
    "    print(\"Training model with prior penalty {}\".format(prior_lambda))\n",
    "    for epoch in range(epochs):\n",
    "        model.train()\n",
    "\n",
    "        train_losses = []\n",
    "        valid_losses = []\n",
    "\n",
    "        # Train\n",
    "        for i, (features, labels) in enumerate(train_loader):\n",
    "            features, labels = features.cuda().float(), labels.cuda().float()\n",
    "            optimizer.zero_grad()\n",
    "            outputs = model(features)\n",
    "\n",
    "            eg = APExp.shap_values(model, features)\n",
    "            eg_no_drugs = eg[:,len(drug_columns):]\n",
    "            attribution_diff = eg_no_drugs - prior_features\n",
    "            prior_penalty = prior_lambda*(attribution_diff ** 2).mean()\n",
    "\n",
    "            #weight_penalty = 0.001*(torch.norm(model.layers[0].weight, p=1) + torch.norm(model.layers[2].weight, p=1) + torch.norm(model.layers[4].weight, p=1))\n",
    "            loss = mse_term(outputs, labels) + prior_penalty\n",
    "\n",
    "            loss.backward(retain_graph=True)\n",
    "            optimizer.step()\n",
    "            train_losses.append(loss.item())\n",
    "\n",
    "        # Validation\n",
    "        for i, (features,labels) in enumerate(test_loader):\n",
    "            features, labels = features.cuda().float(), labels.cuda().float()\n",
    "            outputs = model(features)\n",
    "            valid_losses.append(mse_term(outputs,labels).detach().cpu().numpy())\n",
    "\n",
    "            \n",
    "        valid_loss = np.mean(valid_losses)\n",
    "        \n",
    "        if epoch % 10 == 0:\n",
    "            print(epoch, np.mean(train_losses),valid_loss)\n",
    "    return valid_loss\n"
   ]
  },
  {
   "cell_type": "code",
   "execution_count": null,
   "metadata": {},
   "outputs": [],
   "source": [
    "prior_lambdas = np.linspace(1, 2, num = 20)\n",
    "prior_lambdas"
   ]
  },
  {
   "cell_type": "code",
   "execution_count": null,
   "metadata": {},
   "outputs": [],
   "source": [
    "prior_features = torch.FloatTensor(merge_df.loc[['Expression hub']].values).cuda().reshape(-1,)"
   ]
  },
  {
   "cell_type": "code",
   "execution_count": null,
   "metadata": {},
   "outputs": [],
   "source": [
    "hubness_lambdas_and_loss = []\n",
    "\n",
    "for prior_lambda in prior_lambdas:\n",
    "    validation_loss = train(prior_lambda)\n",
    "    hubness_lambdas_and_loss.append((prior_lambda, validation_loss))"
   ]
  },
  {
   "cell_type": "code",
   "execution_count": null,
   "metadata": {},
   "outputs": [],
   "source": []
  }
 ],
 "metadata": {
  "kernelspec": {
   "display_name": "Python 3",
   "language": "python",
   "name": "python3"
  },
  "language_info": {
   "codemirror_mode": {
    "name": "ipython",
    "version": 3
   },
   "file_extension": ".py",
   "mimetype": "text/x-python",
   "name": "python",
   "nbconvert_exporter": "python",
   "pygments_lexer": "ipython3",
   "version": "3.6.8"
  }
 },
 "nbformat": 4,
 "nbformat_minor": 4
}

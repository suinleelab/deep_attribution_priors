{
 "cells": [
  {
   "cell_type": "code",
   "execution_count": 3,
   "metadata": {},
   "outputs": [],
   "source": [
    "import numpy as np\n",
    "import pandas as pd\n",
    "import altair as alt\n",
    "import seaborn as sns; sns.set()"
   ]
  },
  {
   "cell_type": "code",
   "execution_count": 7,
   "metadata": {},
   "outputs": [],
   "source": [
    "x = np.arange(100)\n",
    "y = x + np.random.randn(100) * 20"
   ]
  },
  {
   "cell_type": "code",
   "execution_count": 8,
   "metadata": {},
   "outputs": [
    {
     "data": {
      "text/plain": [
       "<matplotlib.axes._subplots.AxesSubplot at 0x7f1a6193c518>"
      ]
     },
     "execution_count": 8,
     "metadata": {},
     "output_type": "execute_result"
    },
    {
     "data": {
      "image/png": "[encoded data removed]",
      "text/plain": [
       "<Figure size 432x288 with 1 Axes>"
      ]
     },
     "metadata": {},
     "output_type": "display_data"
    }
   ],
   "source": [
    "sns.scatterplot(x, y)"
   ]
  },
  {
   "cell_type": "code",
   "execution_count": 10,
   "metadata": {},
   "outputs": [
    {
     "data": {
      "application/vnd.vegalite.v3+json": {
       "$schema": "https://vega.github.io/schema/vega-lite/v3.4.0.json",
       "config": {
        "mark": {
         "tooltip": null
        },
        "view": {
         "height": 300,
         "width": 400
        }
       },
       "data": {
        "name": "data-f8b7d79fd34e0a4b11ff65e7bd72464f"
       },
       "datasets": {
        "data-f8b7d79fd34e0a4b11ff65e7bd72464f": [
         {
          "x": 0,
          "y": 7.474997508480936
         },
         {
          "x": 1,
          "y": -9.339752831548212
         },
         {
          "x": 2,
          "y": 15.724640315535275
         },
         {
          "x": 3,
          "y": -5.2491709266684765
         },
         {
          "x": 4,
          "y": -0.025542185955916175
         },
         {
          "x": 5,
          "y": -10.406820529328657
         },
         {
          "x": 6,
          "y": 19.661742923436005
         },
         {
          "x": 7,
          "y": -1.7681388933964772
         },
         {
          "x": 8,
          "y": 21.527141089041002
         },
         {
          "x": 9,
          "y": 28.663061501213793
         },
         {
          "x": 10,
          "y": 69.70347792401242
         },
         {
          "x": 11,
          "y": 44.570898110808535
         },
         {
          "x": 12,
          "y": -2.8048081435780627
         },
         {
          "x": 13,
          "y": 4.428284288905138
         },
         {
          "x": 14,
          "y": 42.960499476936114
         },
         {
          "x": 15,
          "y": 3.675339183584736
         },
         {
          "x": 16,
          "y": 53.90033532425761
         },
         {
          "x": 17,
          "y": -3.5533866649386887
         },
         {
          "x": 18,
          "y": 47.398851333494406
         },
         {
          "x": 19,
          "y": 6.2955918778955535
         },
         {
          "x": 20,
          "y": 24.529544217781243
         },
         {
          "x": 21,
          "y": 15.11274137418675
         },
         {
          "x": 22,
          "y": 38.737845424749665
         },
         {
          "x": 23,
          "y": -9.195509132272178
         },
         {
          "x": 24,
          "y": 30.155566470229314
         },
         {
          "x": 25,
          "y": -10.004159981884982
         },
         {
          "x": 26,
          "y": 53.321637008554205
         },
         {
          "x": 27,
          "y": 16.37806450635367
         },
         {
          "x": 28,
          "y": 20.533360278192294
         },
         {
          "x": 29,
          "y": 33.315885017440586
         },
         {
          "x": 30,
          "y": 42.49565693440502
         },
         {
          "x": 31,
          "y": 30.467506899408317
         },
         {
          "x": 32,
          "y": 52.73855532389642
         },
         {
          "x": 33,
          "y": 34.41162038589476
         },
         {
          "x": 34,
          "y": 43.867580494768006
         },
         {
          "x": 35,
          "y": 31.539283053855513
         },
         {
          "x": 36,
          "y": 47.37571854880804
         },
         {
          "x": 37,
          "y": 18.124588549453232
         },
         {
          "x": 38,
          "y": 40.40907243931913
         },
         {
          "x": 39,
          "y": 41.186711887619936
         },
         {
          "x": 40,
          "y": 19.495337233839514
         },
         {
          "x": 41,
          "y": 14.95037397839776
         },
         {
          "x": 42,
          "y": 49.1919653911071
         },
         {
          "x": 43,
          "y": 30.149119352452512
         },
         {
          "x": 44,
          "y": 46.58317241223001
         },
         {
          "x": 45,
          "y": 43.46940413378042
         },
         {
          "x": 46,
          "y": 59.554390639214446
         },
         {
          "x": 47,
          "y": 73.51327221984104
         },
         {
          "x": 48,
          "y": 46.37032660179394
         },
         {
          "x": 49,
          "y": 39.72792040190391
         },
         {
          "x": 50,
          "y": 13.982276515886333
         },
         {
          "x": 51,
          "y": 50.05871152496715
         },
         {
          "x": 52,
          "y": 55.115582532693914
         },
         {
          "x": 53,
          "y": 67.76143711536021
         },
         {
          "x": 54,
          "y": 73.50496928906473
         },
         {
          "x": 55,
          "y": 46.6821801238761
         },
         {
          "x": 56,
          "y": 27.328600501022503
         },
         {
          "x": 57,
          "y": 61.15179922465007
         },
         {
          "x": 58,
          "y": 79.11437810743183
         },
         {
          "x": 59,
          "y": 30.825857063286144
         },
         {
          "x": 60,
          "y": 55.7668808474298
         },
         {
          "x": 61,
          "y": 46.06637921952274
         },
         {
          "x": 62,
          "y": 75.96783565434271
         },
         {
          "x": 63,
          "y": 51.48399863903157
         },
         {
          "x": 64,
          "y": 88.00240361040872
         },
         {
          "x": 65,
          "y": 67.34558521008398
         },
         {
          "x": 66,
          "y": 85.27314661919311
         },
         {
          "x": 67,
          "y": 19.44648300555621
         },
         {
          "x": 68,
          "y": 15.329200593753036
         },
         {
          "x": 69,
          "y": 55.97814923633642
         },
         {
          "x": 70,
          "y": 101.21613370846401
         },
         {
          "x": 71,
          "y": 55.802460189894575
         },
         {
          "x": 72,
          "y": 82.40128801475754
         },
         {
          "x": 73,
          "y": 50.020477543410834
         },
         {
          "x": 74,
          "y": 93.63468253508745
         },
         {
          "x": 75,
          "y": 65.68168091810495
         },
         {
          "x": 76,
          "y": 106.61941304907704
         },
         {
          "x": 77,
          "y": 54.12812080540412
         },
         {
          "x": 78,
          "y": 90.64974023323703
         },
         {
          "x": 79,
          "y": 108.26453878295848
         },
         {
          "x": 80,
          "y": 82.37427463595564
         },
         {
          "x": 81,
          "y": 84.6520629534304
         },
         {
          "x": 82,
          "y": 83.69461671087036
         },
         {
          "x": 83,
          "y": 57.194463510433295
         },
         {
          "x": 84,
          "y": 68.08077272315984
         },
         {
          "x": 85,
          "y": 78.98140637262708
         },
         {
          "x": 86,
          "y": 82.3147219705357
         },
         {
          "x": 87,
          "y": 101.07517174122066
         },
         {
          "x": 88,
          "y": 101.41340493776684
         },
         {
          "x": 89,
          "y": 105.63760775286214
         },
         {
          "x": 90,
          "y": 86.27743938676238
         },
         {
          "x": 91,
          "y": 116.85045124120562
         },
         {
          "x": 92,
          "y": 101.76509597231411
         },
         {
          "x": 93,
          "y": 97.10643758140031
         },
         {
          "x": 94,
          "y": 97.32086036123572
         },
         {
          "x": 95,
          "y": 81.62097934866715
         },
         {
          "x": 96,
          "y": 100.70995893078492
         },
         {
          "x": 97,
          "y": 115.56230026020339
         },
         {
          "x": 98,
          "y": 79.21736741208342
         },
         {
          "x": 99,
          "y": 134.05454343400157
         }
        ]
       },
       "encoding": {
        "x": {
         "field": "x",
         "type": "quantitative"
        },
        "y": {
         "field": "y",
         "type": "quantitative"
        }
       },
       "mark": {
        "filled": true,
        "type": "point"
       }
      },
      "image/png": "[encoded data removed]",
      "text/plain": [
       "<VegaLite 3 object>\n",
       "\n",
       "If you see this message, it means the renderer has not been properly enabled\n",
       "for the frontend that you are using. For more information, see\n",
       "https://altair-viz.github.io/user_guide/troubleshooting.html\n"
      ]
     },
     "execution_count": 10,
     "metadata": {},
     "output_type": "execute_result"
    }
   ],
   "source": [
    "alt.Chart(pd.DataFrame({'x': x, 'y':y})).mark_point(filled=True).encode(\n",
    "    alt.X('x:Q'),\n",
    "    alt.Y('y:Q')\n",
    ")"
   ]
  }
 ],
 "metadata": {
  "kernelspec": {
   "display_name": "Python 3",
   "language": "python",
   "name": "python3"
  },
  "language_info": {
   "codemirror_mode": {
    "name": "ipython",
    "version": 3
   },
   "file_extension": ".py",
   "mimetype": "text/x-python",
   "name": "python",
   "nbconvert_exporter": "python",
   "pygments_lexer": "ipython3",
   "version": "3.6.8"
  }
 },
 "nbformat": 4,
 "nbformat_minor": 4
}

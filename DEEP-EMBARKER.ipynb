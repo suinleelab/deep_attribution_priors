{
 "cells": [
  {
   "cell_type": "code",
   "execution_count": 1,
   "metadata": {},
   "outputs": [],
   "source": [
    "import numpy as np\n",
    "import pandas as pd\n",
    "import pickle\n",
    "\n",
    "import matplotlib.pyplot as plt\n",
    "import datetime\n",
    "import time\n",
    "import logging\n",
    "\n",
    "from sklearn.metrics import mean_squared_error \n",
    "from scipy.stats import pearsonr\n",
    "from scipy.stats import spearmanr\n",
    "from sklearn.metrics import precision_recall_curve\n",
    "from sklearn.metrics import roc_curve\n",
    "from sklearn.metrics import average_precision_score\n",
    "from sklearn.metrics import roc_auc_score\n",
    "\n",
    "from IPython.core.debugger import set_trace\n",
    "\n",
    "import random\n",
    "\n",
    "# import xgboost\n",
    "from sklearn.linear_model import ElasticNet\n",
    "from sklearn.linear_model import Lasso\n",
    "from sklearn.preprocessing import StandardScaler\n",
    "\n",
    "from sklearn.model_selection import train_test_split\n",
    "\n",
    "import os\n",
    "\n",
    "from tqdm import *\n",
    "\n",
    "import sys\n",
    "sys.path.insert(0, '../')\n",
    "\n",
    "import scipy.sparse as sp\n",
    "# tells which GPU to use.\n",
    "\n",
    "import torch\n",
    "from torch.utils.data import Dataset, DataLoader\n",
    "# Reproducibility...\n",
    "seed = 1017\n",
    "random.seed(seed)\n",
    "torch.manual_seed(seed)\n",
    "torch.cuda.manual_seed(seed)\n",
    "torch.cuda.manual_seed_all(seed)\n",
    "np.random.seed(seed)\n",
    "os.environ['PYTHONHASHSEED'] = str(seed)\n",
    "torch.backends.cudnn.deterministic = True\n",
    "torch.backends.cudnn.benchmark = False\n",
    "\n",
    "from egexplainer import AttributionPriorExplainer\n",
    "torch.set_num_threads(1)"
   ]
  },
  {
   "cell_type": "code",
   "execution_count": 2,
   "metadata": {},
   "outputs": [],
   "source": [
    "logging.basicConfig(\n",
    "    format='%(asctime)s %(levelname)-8s %(message)s',\n",
    "    level=logging.INFO,\n",
    "    datefmt='%Y-%m-%d %H:%M:%S'\n",
    ")"
   ]
  },
  {
   "cell_type": "code",
   "execution_count": 3,
   "metadata": {},
   "outputs": [
    {
     "data": {
      "text/plain": [
       "'\\ndf = pd.read_csv(\"./brain_top\", sep=\"\\t\")\\ndf.columns = [\"Gene 1\", \"Gene 2\", \"Posterior Prob.\"]\\n\\nfrom tqdm import tqdm_notebook\\n\\ntqdm.pandas()\\ndf_summed = df.drop(\"Gene 2\", axis=1).groupby(\"Gene 1\").sum().reset_index()\\n\\nimport mygene\\nmg = mygene.MyGeneInfo()\\n\\ndef entrez_to_symbol(entrez_id):\\n    gene_info = mg.getgene(entrez_id)\\n    return gene_info[\\'symbol\\'] if gene_info else None\\n\\ndf_summed[\"Gene 1\"] = df_summed[\"Gene 1\"].progress_map(lambda x: entrez_to_symbol(x))\\n'"
      ]
     },
     "execution_count": 3,
     "metadata": {},
     "output_type": "execute_result"
    }
   ],
   "source": [
    "# Code to generate hubness feature\n",
    "\"\"\"\n",
    "df = pd.read_csv(\"./brain_top\", sep=\"\\t\")\n",
    "df.columns = [\"Gene 1\", \"Gene 2\", \"Posterior Prob.\"]\n",
    "\n",
    "from tqdm import tqdm_notebook\n",
    "\n",
    "tqdm.pandas()\n",
    "df_summed = df.drop(\"Gene 2\", axis=1).groupby(\"Gene 1\").sum().reset_index()\n",
    "\n",
    "import mygene\n",
    "mg = mygene.MyGeneInfo()\n",
    "\n",
    "def entrez_to_symbol(entrez_id):\n",
    "    gene_info = mg.getgene(entrez_id)\n",
    "    return gene_info['symbol'] if gene_info else None\n",
    "\n",
    "df_summed[\"Gene 1\"] = df_summed[\"Gene 1\"].progress_map(lambda x: entrez_to_symbol(x))\n",
    "\"\"\""
   ]
  },
  {
   "cell_type": "code",
   "execution_count": 4,
   "metadata": {},
   "outputs": [
    {
     "data": {
      "text/plain": [
       "'\\nimport GEOparse\\ngse = GEOparse.get_GEO(geo=\"GSE80970\", destdir=\"./\")\\nmethylation_illumina = pd.read_csv(\"HumanMethylation450_15017482_v1-2.csv\")\\nmethylation_illumina = methylation_illumina[[\"IlmnID\", \"UCSC_RefGene_Name\"]]\\nmethylation_illumina = methylation_illumina.dropna()\\nmethylation_illumina = methylation_illumina.set_index(\"IlmnID\")\\nmethylation_values = None\\nmethylation_regions = None\\nfor gsm_name, gsm in gse.gsms.items():\\n    if methylation_values is not None:\\n        methylation_values += gsm.table[\"VALUE\"]\\n    else:\\n        methylation_values = gsm.table[\"VALUE\"]\\n        methylation_regions = gsm.table[\"ID_REF\"]\\nmethylation_values /= len(gse.gsms.items())\\n\\nmethylation_df = pd.DataFrame(data={\\n    \"ID_REF\": methylation_regions,\\n    \"Methylation\": methylation_values\\n}).set_index(\"ID_REF\")\\nmethylation_df = methylation_df.loc[methylation_illumina.index]\\nmethylation_df[\"UCSC_RefGene_Name\"] = methylation_illumina[\"UCSC_RefGene_Name\"].map(lambda x: x.split(\";\")[0])\\nmethylation_df = methylation_df.dropna()\\nmethylation_df = methylation_df.groupby(\"UCSC_RefGene_Name\").mean()\\nmethylation_df = methylation_df.T\\n'"
      ]
     },
     "execution_count": 4,
     "metadata": {},
     "output_type": "execute_result"
    }
   ],
   "source": [
    "\"\"\"\n",
    "import GEOparse\n",
    "gse = GEOparse.get_GEO(geo=\"GSE80970\", destdir=\"./\")\n",
    "methylation_illumina = pd.read_csv(\"HumanMethylation450_15017482_v1-2.csv\")\n",
    "methylation_illumina = methylation_illumina[[\"IlmnID\", \"UCSC_RefGene_Name\"]]\n",
    "methylation_illumina = methylation_illumina.dropna()\n",
    "methylation_illumina = methylation_illumina.set_index(\"IlmnID\")\n",
    "methylation_values = None\n",
    "methylation_regions = None\n",
    "for gsm_name, gsm in gse.gsms.items():\n",
    "    if methylation_values is not None:\n",
    "        methylation_values += gsm.table[\"VALUE\"]\n",
    "    else:\n",
    "        methylation_values = gsm.table[\"VALUE\"]\n",
    "        methylation_regions = gsm.table[\"ID_REF\"]\n",
    "methylation_values /= len(gse.gsms.items())\n",
    "\n",
    "methylation_df = pd.DataFrame(data={\n",
    "    \"ID_REF\": methylation_regions,\n",
    "    \"Methylation\": methylation_values\n",
    "}).set_index(\"ID_REF\")\n",
    "methylation_df = methylation_df.loc[methylation_illumina.index]\n",
    "methylation_df[\"UCSC_RefGene_Name\"] = methylation_illumina[\"UCSC_RefGene_Name\"].map(lambda x: x.split(\";\")[0])\n",
    "methylation_df = methylation_df.dropna()\n",
    "methylation_df = methylation_df.groupby(\"UCSC_RefGene_Name\").mean()\n",
    "methylation_df = methylation_df.T\n",
    "\"\"\""
   ]
  },
  {
   "cell_type": "code",
   "execution_count": 5,
   "metadata": {},
   "outputs": [
    {
     "data": {
      "text/plain": [
       "'\\nad_hubness = pickle.load(open(\"ad_hubness.p\", \"rb\"))\\nad_hubness.dropna(inplace=True)\\nad_hubness = ad_hubness.groupby(\"Gene 1\").mean()\\nad_hubness = ad_hubness.rename(columns={\"Posterior Prob.\": \"Hubness\"})\\nad_hubness = ad_hubness.T\\n'"
      ]
     },
     "execution_count": 5,
     "metadata": {},
     "output_type": "execute_result"
    }
   ],
   "source": [
    "\"\"\"\n",
    "ad_hubness = pickle.load(open(\"ad_hubness.p\", \"rb\"))\n",
    "ad_hubness.dropna(inplace=True)\n",
    "ad_hubness = ad_hubness.groupby(\"Gene 1\").mean()\n",
    "ad_hubness = ad_hubness.rename(columns={\"Posterior Prob.\": \"Hubness\"})\n",
    "ad_hubness = ad_hubness.T\n",
    "\"\"\""
   ]
  },
  {
   "cell_type": "code",
   "execution_count": 6,
   "metadata": {},
   "outputs": [],
   "source": [
    "#from data import MergeData\n",
    "#merge_data = MergeData.load_data()"
   ]
  },
  {
   "cell_type": "code",
   "execution_count": 7,
   "metadata": {},
   "outputs": [],
   "source": [
    "#regulator = pd.DataFrame(merge_data.data.T[\"Regulator\"]).T"
   ]
  },
  {
   "cell_type": "code",
   "execution_count": 8,
   "metadata": {},
   "outputs": [],
   "source": [
    "#cnv = pd.DataFrame(merge_data.data.T[\"Genomic abnormalities (CNV)\"]).T"
   ]
  },
  {
   "cell_type": "code",
   "execution_count": 9,
   "metadata": {},
   "outputs": [],
   "source": [
    "#overlapping_genes = set(methylation_df.columns).intersection(ad_hubness.columns).intersection(cnv.columns).intersection(regulator.columns)"
   ]
  },
  {
   "cell_type": "code",
   "execution_count": 10,
   "metadata": {},
   "outputs": [],
   "source": [
    "#ad_hubness = ad_hubness[overlapping_genes]\n",
    "#methylation_df = methylation_df[overlapping_genes]\n",
    "#cnv = cnv[overlapping_genes]\n",
    "#"
   ]
  },
  {
   "cell_type": "markdown",
   "metadata": {},
   "source": [
    "# pre-process abeta data"
   ]
  },
  {
   "cell_type": "code",
   "execution_count": 11,
   "metadata": {},
   "outputs": [],
   "source": [
    "data_dir = \"/projects/leelab2/jjanizek/\"\n",
    "\n",
    "##\n",
    "## put everything in 0-1 by region\n",
    "##\n",
    "\n",
    "#Read all region expressions\n",
    "regions = ['ACT_FWM', 'ACT_HIP', 'ACT_PCx', 'ACT_TCx', 'MSBB_BM10', 'MSBB_BM22', 'MSBB_BM36', 'MSBB_BM44', 'ROSMAP' ]\n",
    "\n",
    "data_list = []\n",
    "\n",
    "for region in regions:\n",
    "    \n",
    "    #Read expression\n",
    "    data_df = pd.read_table(data_dir + 'AD_DATA/abeta_' + region + '.csv', index_col = 0, sep = ',')\n",
    "    \n",
    "    data_df.columns = ['abeta']\n",
    "    \n",
    "    standardized_df = (data_df - data_df.min())/(data_df.max()- data_df.min())\n",
    "\n",
    "    #Append to list\n",
    "    data_list.append(standardized_df)\n",
    "    \n",
    "    #Join all data\n",
    "joined_df = pd.concat(data_list, axis = 0)"
   ]
  },
  {
   "cell_type": "code",
   "execution_count": 12,
   "metadata": {},
   "outputs": [],
   "source": [
    "y = joined_df"
   ]
  },
  {
   "cell_type": "code",
   "execution_count": 13,
   "metadata": {},
   "outputs": [
    {
     "name": "stderr",
     "output_type": "stream",
     "text": [
      "/homes/gws/ewein/.local/lib/python3.6/site-packages/IPython/core/interactiveshell.py:3058: DtypeWarning: Columns (0) have mixed types. Specify dtype option on import or set low_memory=False.\n",
      "  interactivity=interactivity, compiler=compiler, result=result)\n"
     ]
    }
   ],
   "source": [
    "X = pd.read_csv(data_dir + 'AD_DATA/AD_DATA/AD_RnaSeq_Expression_Standardized_Batch_Corrected.tsv',sep='\\t',index_col=0)"
   ]
  },
  {
   "cell_type": "code",
   "execution_count": 14,
   "metadata": {},
   "outputs": [],
   "source": [
    "prior_info = pd.read_csv(\"./cram.csv\")\n",
    "overlapping_genes = list(set(X.columns).intersection(prior_info.columns))\n",
    "X = X[overlapping_genes]\n",
    "prior_info = prior_info[overlapping_genes]\n",
    "prior_info = prior_info.T\n",
    "prior_info = torch.FloatTensor(prior_info.values).cuda()"
   ]
  },
  {
   "cell_type": "code",
   "execution_count": 15,
   "metadata": {},
   "outputs": [],
   "source": [
    "#Split the data to training and test sets\n",
    "X_train, X_test, y_train, y_test = train_test_split(X, y, test_size=0.20, random_state=1017)\n",
    "X_train, X_val, y_train, y_val = train_test_split(X_train, y_train, test_size=0.25, random_state=1017)"
   ]
  },
  {
   "cell_type": "code",
   "execution_count": 16,
   "metadata": {},
   "outputs": [],
   "source": [
    "feature_scaler = StandardScaler()\n",
    "outcome_scaler = StandardScaler()\n",
    "\n",
    "y_train = y_train.values.reshape(-1, 1)\n",
    "y_test = y_test.values.reshape(-1, 1)\n",
    "y_val = y_val.values.reshape(-1, 1)\n",
    "\n",
    "feature_scaler.fit(X_train)\n",
    "outcome_scaler.fit(y_train)\n",
    "\n",
    "X_train_ss, X_val_ss, X_test_ss = feature_scaler.transform(X_train), feature_scaler.transform(X_val), feature_scaler.transform(X_test)\n",
    "y_train_ss, y_val_ss, y_test_ss = outcome_scaler.transform(y_train), outcome_scaler.transform(y_val), outcome_scaler.transform(y_test)"
   ]
  },
  {
   "cell_type": "code",
   "execution_count": 17,
   "metadata": {},
   "outputs": [],
   "source": [
    "class ADData(Dataset):\n",
    "    \n",
    "    def __init__(self, X, y=None, transform=None):\n",
    "        self.X = X\n",
    "        self.y = y\n",
    "        self.transform = transform\n",
    "        \n",
    "    def __len__(self):\n",
    "        return self.X.shape[0]\n",
    "    \n",
    "    def __getitem__(self, index):\n",
    "        sample = self.X[index,:]\n",
    "        \n",
    "        if self.transform is not None:\n",
    "            sample = self.transform(sample)\n",
    "            \n",
    "        if self.y is not None:\n",
    "            return sample, self.y[index]\n",
    "        else:\n",
    "            return sample"
   ]
  },
  {
   "cell_type": "code",
   "execution_count": 18,
   "metadata": {},
   "outputs": [],
   "source": [
    "# N is batch size; D_in is input dimension;\n",
    "# H is hidden dimension; D_out is output dimension.\n",
    "N = 32\n",
    "\n",
    "# Create random Tensors to hold inputs and outputs\n",
    "train_dataset = ADData(X_train_ss,y_train_ss)\n",
    "val_dataset = ADData(X_val_ss, y_val_ss)\n",
    "test_dataset = ADData(X_test_ss,y_test_ss)\n",
    "\n",
    "train_loader = DataLoader(dataset=train_dataset, batch_size=N)\n",
    "valid_loader = DataLoader(dataset=val_dataset, batch_size=N)\n",
    "test_loader = DataLoader(dataset=test_dataset, batch_size=test_dataset.X.shape[0])"
   ]
  },
  {
   "cell_type": "code",
   "execution_count": 19,
   "metadata": {},
   "outputs": [],
   "source": [
    "learning_rate = 1e-4\n",
    "prior_learning_rate = 1e-5"
   ]
  },
  {
   "cell_type": "code",
   "execution_count": 20,
   "metadata": {},
   "outputs": [
    {
     "name": "stdout",
     "output_type": "stream",
     "text": [
      "Beginning model training at 2019-12-26 18:12:06.484696\n"
     ]
    },
    {
     "name": "stderr",
     "output_type": "stream",
     "text": [
      "2019-12-26 18:12:06 INFO     Epoch 0 completed in 0.2299959659576416 secs with valid loss 2.1864\n",
      "2019-12-26 18:12:09 INFO     Epoch 10 completed in 0.21743988990783691 secs with valid loss 1.6532\n",
      "2019-12-26 18:12:12 INFO     Epoch 20 completed in 0.21082639694213867 secs with valid loss 1.8457\n",
      "2019-12-26 18:12:14 INFO     Epoch 30 completed in 0.21333813667297363 secs with valid loss 2.2449\n",
      "2019-12-26 18:12:16 INFO     Epoch 40 completed in 0.19721508026123047 secs with valid loss 2.1752\n",
      "2019-12-26 18:12:18 INFO     Epoch 50 completed in 0.19692158699035645 secs with valid loss 1.9388\n",
      "2019-12-26 18:12:20 INFO     Epoch 60 completed in 0.19557929039001465 secs with valid loss 1.9357\n",
      "2019-12-26 18:12:22 INFO     Epoch 70 completed in 0.19836783409118652 secs with valid loss 2.0995\n",
      "2019-12-26 18:12:24 INFO     Epoch 80 completed in 0.21590423583984375 secs with valid loss 2.1930\n",
      "2019-12-26 18:12:26 INFO     Epoch 90 completed in 0.21646475791931152 secs with valid loss 1.9521\n",
      "2019-12-26 18:12:28 INFO     Epoch 100 completed in 0.21631217002868652 secs with valid loss 1.6671\n"
     ]
    },
    {
     "name": "stdout",
     "output_type": "stream",
     "text": [
      "Early stopping on epoch 107\n",
      "Final valid loss 1.6004401445388794\n",
      "0.8677023649215698\n"
     ]
    }
   ],
   "source": [
    "from models import MLP\n",
    "from utils import train\n",
    "from torch.nn import MSELoss\n",
    "from utils import EarlyStopping\n",
    "patience = 100\n",
    "\n",
    "D_in, H1, H2, D_out = X_train.shape[1], 512, 256, 1\n",
    "f1 = MLP(D_in=D_in, H1=H1, H2=H2, D_out=D_out, dropout=0.0).cuda().float()\n",
    "f1_optimizer = torch.optim.Adam(f1.parameters(), lr=learning_rate)\n",
    "criterion = torch.nn.MSELoss()\n",
    "\n",
    "losses_no_prior = []\n",
    "\n",
    "def train(model, optimizer):\n",
    "    print(\"Beginning model training at {}\".format(datetime.datetime.now()))\n",
    "    early_stopping = EarlyStopping(patience=patience)\n",
    "    epoch = 0\n",
    "    while True:\n",
    "        start_time = time.time()\n",
    "        model.train()\n",
    "        for X_batch, y_batch in train_loader:\n",
    "            optimizer.zero_grad()\n",
    "            X_batch = X_batch.float().cuda()\n",
    "            y_batch = y_batch.float().cuda()\n",
    "\n",
    "            output = model(X_batch)\n",
    "            loss_train = criterion(output, y_batch)\n",
    "\n",
    "            loss_train.backward()\n",
    "            optimizer.step()\n",
    "\n",
    "        model.eval()\n",
    "        for X_batch, y_batch in valid_loader:\n",
    "            X_batch = X_batch.float().cuda()\n",
    "            y_batch = y_batch.float().cuda()\n",
    "\n",
    "            output = model(X_batch)\n",
    "            loss_valid = criterion(output, y_batch).item()\n",
    "            end_time = time.time()\n",
    "            epoch_time = end_time - start_time\n",
    "\n",
    "        if epoch % 10 == 0:\n",
    "            logging.info(\"Epoch {} completed in {} secs with valid loss {:.4f}\".format(epoch, epoch_time, loss_valid))\n",
    "\n",
    "        early_stopping(loss_valid, model)\n",
    "\n",
    "        if early_stopping.early_stop:\n",
    "            print(\"Early stopping on epoch {}\".format(epoch))\n",
    "            print(\"Final valid loss {}\".format(early_stopping.val_metric_min))\n",
    "            break\n",
    "        epoch += 1\n",
    "    for X_batch, y_batch in test_loader:\n",
    "        X_batch = X_batch.float().cuda()\n",
    "        y_batch = y_batch.float().cuda()\n",
    "\n",
    "        output = model(X_batch)\n",
    "        loss_test = criterion(output, y_batch).item()\n",
    "    return loss_test\n",
    "\n",
    "print(train(f1, f1_optimizer))\n"
   ]
  },
  {
   "cell_type": "code",
   "execution_count": 21,
   "metadata": {},
   "outputs": [],
   "source": [
    "import egexplainer\n",
    "import importlib\n",
    "\n",
    "importlib.reload(egexplainer)\n",
    "\n",
    "APExp = egexplainer.VariableBatchExplainer(train_dataset)"
   ]
  },
  {
   "cell_type": "code",
   "execution_count": 22,
   "metadata": {},
   "outputs": [],
   "source": [
    "def train_with_learned_prior(f1, f2, f1_optimizer, f2_optimizer, prior_info):\n",
    "    print(\"Beginning model training at {}\".format(datetime.datetime.now()))\n",
    "    early_stopping = EarlyStopping(patience=patience)\n",
    "    epoch = 0\n",
    "    while True:\n",
    "        start_time = time.time()\n",
    "        f1.train()\n",
    "        for X_batch, y_batch in train_loader:\n",
    "            f1_optimizer.zero_grad()\n",
    "            f2_optimizer.zero_grad()\n",
    "\n",
    "            X_batch = X_batch.float().cuda()\n",
    "            y_batch = y_batch.float().cuda()\n",
    "\n",
    "            output = f1(X_batch)\n",
    "\n",
    "            eg = APExp.shap_values(f1, X_batch).abs()\n",
    "            prior_differences = f2(prior_info).squeeze()\n",
    "            prior_loss = ((prior_differences - eg) ** 2).mean()\n",
    "\n",
    "            loss_train = criterion(output, y_batch) + prior_loss\n",
    "\n",
    "            loss_train.backward()\n",
    "            f1_optimizer.step()\n",
    "            f2_optimizer.step()\n",
    "\n",
    "        f1.eval()\n",
    "        for X_batch, y_batch in valid_loader:\n",
    "            X_batch = X_batch.float().cuda()\n",
    "            y_batch = y_batch.float().cuda()\n",
    "\n",
    "            output = f1(X_batch)\n",
    "            loss_valid = criterion(output, y_batch).item()\n",
    "            end_time = time.time()\n",
    "            epoch_time = end_time - start_time\n",
    "\n",
    "        if epoch % 10 == 0:\n",
    "            logging.info(\"Epoch {} completed in {} secs with valid loss {:.4f}\".format(epoch, epoch_time, loss_valid))\n",
    "\n",
    "        early_stopping(loss_valid, [f1, f2])\n",
    "\n",
    "        if early_stopping.early_stop:\n",
    "            print(\"Early stopping on epoch {}\".format(epoch))\n",
    "            print(\"Final valid loss {}\".format(loss_valid))\n",
    "            break\n",
    "        epoch += 1\n",
    "    for X_batch, y_batch in test_loader:\n",
    "        X_batch = X_batch.float().cuda()\n",
    "        y_batch = y_batch.float().cuda()\n",
    "\n",
    "        output = f1(X_batch)\n",
    "        loss_test = criterion(output, y_batch).item()\n",
    "    return loss_test"
   ]
  },
  {
   "cell_type": "code",
   "execution_count": 23,
   "metadata": {},
   "outputs": [
    {
     "name": "stdout",
     "output_type": "stream",
     "text": [
      "Beginning model training at 2019-12-26 18:12:30.296947\n"
     ]
    },
    {
     "name": "stderr",
     "output_type": "stream",
     "text": [
      "2019-12-26 18:12:30 INFO     Epoch 0 completed in 0.5941436290740967 secs with valid loss 2.2278\n",
      "2019-12-26 18:12:37 INFO     Epoch 10 completed in 0.5473823547363281 secs with valid loss 2.1033\n",
      "2019-12-26 18:12:43 INFO     Epoch 20 completed in 0.6167576313018799 secs with valid loss 2.0510\n",
      "2019-12-26 18:12:48 INFO     Epoch 30 completed in 0.5546169281005859 secs with valid loss 1.9148\n",
      "2019-12-26 18:12:54 INFO     Epoch 40 completed in 0.5955965518951416 secs with valid loss 2.0088\n",
      "2019-12-26 18:12:59 INFO     Epoch 50 completed in 0.5515739917755127 secs with valid loss 2.1729\n",
      "2019-12-26 18:13:05 INFO     Epoch 60 completed in 0.5513410568237305 secs with valid loss 2.0592\n",
      "2019-12-26 18:13:11 INFO     Epoch 70 completed in 0.5580673217773438 secs with valid loss 2.0690\n",
      "2019-12-26 18:13:16 INFO     Epoch 80 completed in 0.5799283981323242 secs with valid loss 2.0405\n",
      "2019-12-26 18:13:22 INFO     Epoch 90 completed in 0.5483818054199219 secs with valid loss 2.0710\n",
      "2019-12-26 18:13:28 INFO     Epoch 100 completed in 0.5812392234802246 secs with valid loss 2.1210\n",
      "2019-12-26 18:13:33 INFO     Epoch 110 completed in 0.5825808048248291 secs with valid loss 2.0298\n"
     ]
    },
    {
     "name": "stdout",
     "output_type": "stream",
     "text": [
      "Early stopping on epoch 116\n",
      "Final valid loss 2.067944288253784\n"
     ]
    },
    {
     "data": {
      "text/plain": [
       "0.8202336430549622"
      ]
     },
     "execution_count": 23,
     "metadata": {},
     "output_type": "execute_result"
    }
   ],
   "source": [
    "from models import LinearModel, ShallowMLP\n",
    "\n",
    "D_in, H1, H2, D_out = X_train.shape[1], 512, 256, 1\n",
    "\n",
    "f1 = MLP(D_in=D_in, H1=H1, H2=H2, D_out=D_out, dropout=0.5).cuda().float()\n",
    "f1_optimizer = torch.optim.Adam(f1.parameters(), lr=learning_rate)\n",
    "\n",
    "f2 = ShallowMLP(\n",
    "    D_in = prior_info.shape[1],\n",
    "    H1 = 2,\n",
    "    D_out = 1,\n",
    "    dropout = 0.0\n",
    ").cuda().float()\n",
    "\n",
    "\"\"\"\n",
    "f2 = LinearModel(\n",
    "    D_in = prior_info.shape[1],\n",
    "    D_out = 1\n",
    ").cuda()\n",
    "\"\"\"\n",
    "f2_optimizer = torch.optim.Adam(f2.parameters(), lr=prior_learning_rate)\n",
    "train_with_learned_prior(f1, f2, f1_optimizer, f2_optimizer, prior_info)"
   ]
  },
  {
   "cell_type": "code",
   "execution_count": 24,
   "metadata": {},
   "outputs": [],
   "source": [
    "from data import BasicDataset\n",
    "\n",
    "prior_data = BasicDataset(X = prior_info, y = np.zeros(prior_info.shape[0]))\n",
    "\n",
    "meta_APExp = egexplainer.VariableBatchExplainer(prior_data)"
   ]
  },
  {
   "cell_type": "code",
   "execution_count": 25,
   "metadata": {},
   "outputs": [],
   "source": [
    "for X_batch, y_batch in test_loader:\n",
    "    y_batch = y_batch.squeeze()\n",
    "    X_batch = X_batch.float().cuda()\n",
    "    y_batch = y_batch.float().cuda()\n",
    "    predicted_attributions = f2(prior_info).abs().squeeze().cpu().detach().numpy()\n",
    "    meta_eg = meta_APExp.shap_values(f2, prior_info).abs().cpu().detach().numpy()"
   ]
  },
  {
   "cell_type": "code",
   "execution_count": 26,
   "metadata": {},
   "outputs": [
    {
     "name": "stderr",
     "output_type": "stream",
     "text": [
      "/homes/gws/ewein/.local/lib/python3.6/site-packages/ipykernel_launcher.py:3: RuntimeWarning: invalid value encountered in true_divide\n",
      "  This is separate from the ipykernel package so we can avoid doing imports until\n"
     ]
    }
   ],
   "source": [
    "meta_eg = np.abs(meta_eg)\n",
    "row_sums = meta_eg.sum(axis=1)\n",
    "meta_eg = meta_eg / row_sums[:, np.newaxis]\n",
    "meta_eg = (meta_eg.T * predicted_attributions).T"
   ]
  },
  {
   "cell_type": "code",
   "execution_count": 27,
   "metadata": {},
   "outputs": [],
   "source": [
    "df = pd.DataFrame(data={\n",
    "    \"Connectivity\": meta_eg[:,0],\n",
    "    \"Methylation\": meta_eg[:,1],\n",
    "    \"CNV\": meta_eg[:,2],\n",
    "    \"Regulator\": meta_eg[:,3],\n",
    "    \"total_attribution\": predicted_attributions\n",
    "},\n",
    "index=overlapping_genes)"
   ]
  },
  {
   "cell_type": "code",
   "execution_count": 28,
   "metadata": {},
   "outputs": [
    {
     "data": {
      "image/png": "[encoded data removed]",
      "text/plain": [
       "<Figure size 1116x756 with 1 Axes>"
      ]
     },
     "metadata": {},
     "output_type": "display_data"
    }
   ],
   "source": [
    "num_bars = 10\n",
    "data_to_plot = df.dropna().nlargest(num_bars, \"total_attribution\")\n",
    "\n",
    "data_to_plot = data_to_plot.sort_values(by=\"total_attribution\", ascending=True)\n",
    "data_to_plot.drop(\"total_attribution\", axis=1, inplace=True)\n",
    "\n",
    "import seaborn as sns\n",
    "sns.set_style(\"darkgrid\")\n",
    "sns.set_context({\"figure.figsize\": (24, 10)})\n",
    "\n",
    "colors = {\n",
    "    \"connectivity\": \"#0000A3\",\n",
    "    \"methylation\": \"#8A2BE2\",\n",
    "    \"regulator\": \"#008000\",\n",
    "    \"cnv\": \"#00CED1\"\n",
    "}\n",
    "\n",
    "connectivity_bar = plt.Rectangle((0,0),1,1,fc=colors[\"connectivity\"],  edgecolor = 'none')\n",
    "methylation_bar = plt.Rectangle((0,0),1,1,fc=colors[\"methylation\"],edgecolor = 'none')\n",
    "regulator_bar = plt.Rectangle((0,0),1,1,fc=colors[\"regulator\"],  edgecolor = 'none')\n",
    "cnv_bar = plt.Rectangle((0,0),1,1,fc=colors[\"cnv\"], edgecolor = 'none')\n",
    "\n",
    "data_to_plot.plot(\n",
    "    kind=\"barh\",\n",
    "    stacked=True,\n",
    "    color=[\n",
    "        colors[\"connectivity\"],\n",
    "        colors[\"methylation\"],\n",
    "        colors[\"regulator\"],\n",
    "        colors[\"cnv\"]\n",
    "    ],\n",
    "    figsize=(48,24),\n",
    "    width=0.8,\n",
    "    legend=None\n",
    ")\n",
    "\n",
    "plt.xticks(fontsize=36)\n",
    "plt.yticks(fontsize=36)\n",
    "plt.ylabel(\"\")\n",
    "\n",
    "plt.legend(\n",
    "    [connectivity_bar, regulator_bar, cnv_bar, methylation_bar],\n",
    "    ['Connectivity', \"Regulator\", \"CNV\", \"Methylation\"],\n",
    "    ncol = 1,\n",
    "    prop={'size':24}\n",
    ")\n",
    "\n",
    "plt.xlabel(\"Predicted Gene Importance\", fontsize=36)\n",
    "\n",
    "fig = plt.gcf()\n",
    "fig.set_size_inches(15.5, 10.5)\n",
    "plt.tight_layout()"
   ]
  },
  {
   "cell_type": "code",
   "execution_count": null,
   "metadata": {},
   "outputs": [],
   "source": []
  },
  {
   "cell_type": "code",
   "execution_count": null,
   "metadata": {},
   "outputs": [],
   "source": []
  }
 ],
 "metadata": {
  "kernelspec": {
   "display_name": "Python 3",
   "language": "python",
   "name": "python3"
  },
  "language_info": {
   "codemirror_mode": {
    "name": "ipython",
    "version": 3
   },
   "file_extension": ".py",
   "mimetype": "text/x-python",
   "name": "python",
   "nbconvert_exporter": "python",
   "pygments_lexer": "ipython3",
   "version": "3.6.8"
  }
 },
 "nbformat": 4,
 "nbformat_minor": 4
}
